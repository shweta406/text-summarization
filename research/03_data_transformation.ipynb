{
 "cells": [
  {
   "cell_type": "code",
   "execution_count": 1,
   "id": "e9a73aa1",
   "metadata": {},
   "outputs": [],
   "source": [
    "import os"
   ]
  },
  {
   "cell_type": "code",
   "execution_count": 2,
   "id": "66abbd8f",
   "metadata": {},
   "outputs": [
    {
     "data": {
      "text/plain": [
       "'c:\\\\Users\\\\shwet\\\\OneDrive\\\\Desktop\\\\text-summarization\\\\research'"
      ]
     },
     "execution_count": 2,
     "metadata": {},
     "output_type": "execute_result"
    }
   ],
   "source": [
    "%pwd"
   ]
  },
  {
   "cell_type": "code",
   "execution_count": 3,
   "id": "605ae3c9",
   "metadata": {},
   "outputs": [],
   "source": [
    "os.chdir(\"../\")"
   ]
  },
  {
   "cell_type": "code",
   "execution_count": 4,
   "id": "9fd68b78",
   "metadata": {},
   "outputs": [
    {
     "data": {
      "text/plain": [
       "'c:\\\\Users\\\\shwet\\\\OneDrive\\\\Desktop\\\\text-summarization'"
      ]
     },
     "execution_count": 4,
     "metadata": {},
     "output_type": "execute_result"
    }
   ],
   "source": [
    "%pwd"
   ]
  },
  {
   "cell_type": "code",
   "execution_count": 5,
   "id": "3bc0a06e",
   "metadata": {},
   "outputs": [
    {
     "data": {
      "text/plain": [
       "'Key Steps:\\nLoad Raw Data\\nFrom previous ingestion stage (e.g., a CSV or dataset saved via datasets.load_from_disk)\\n\\nText Preprocessing (optional)\\nClean unwanted characters, lowercase, remove HTML tags, etc.\\n\\nTokenizer Load\\nLoad Hugging Face tokenizer like PegasusTokenizer.from_pretrained(...)\\n\\nTokenization\\n\\nInputs (dialogue) → input_ids, attention_mask\\n\\nLabels (summary) → labels\\nWith padding & truncation\\n\\nConvert to Torch Dataset or HuggingFace Dataset format\\n\\nSave Transformed Data\\nSave tokenized dataset for training & evaluation (e.g., with save_to_disk())\\n\\n Input:\\nRaw text dataset (dialogue + summary)\\n\\n Output:\\nTokenized dataset with:\\n\\ninput_ids\\n\\nattention_mask\\n\\nlabels\\n\\n Why It’s Important:\\nTransformer models can’t use raw text — they need numerical token IDs.\\n\\nEnsures uniform input size.\\n\\nPrepares data for direct training using HuggingFace Trainer.'"
      ]
     },
     "execution_count": 5,
     "metadata": {},
     "output_type": "execute_result"
    }
   ],
   "source": [
    "# data transformation\n",
    "'''Raw dataset (e.g., dialogues and summaries) ko clean karke model-friendly format me convert karna — mainly tokenization, padding, truncation, etc.'''\n",
    "\n",
    "'''Key Steps:\n",
    "Load Raw Data\n",
    "From previous ingestion stage (e.g., a CSV or dataset saved via datasets.load_from_disk)\n",
    "\n",
    "Text Preprocessing (optional)\n",
    "Clean unwanted characters, lowercase, remove HTML tags, etc.\n",
    "\n",
    "Tokenizer Load\n",
    "Load Hugging Face tokenizer like PegasusTokenizer.from_pretrained(...)\n",
    "\n",
    "Tokenization\n",
    "\n",
    "Inputs (dialogue) → input_ids, attention_mask\n",
    "\n",
    "Labels (summary) → labels\n",
    "With padding & truncation\n",
    "\n",
    "Convert to Torch Dataset or HuggingFace Dataset format\n",
    "\n",
    "Save Transformed Data\n",
    "Save tokenized dataset for training & evaluation (e.g., with save_to_disk())\n",
    "\n",
    " Input:\n",
    "Raw text dataset (dialogue + summary)\n",
    "\n",
    " Output:\n",
    "Tokenized dataset with:\n",
    "\n",
    "input_ids\n",
    "\n",
    "attention_mask\n",
    "\n",
    "labels\n",
    "\n",
    " Why It’s Important:\n",
    "Transformer models can’t use raw text — they need numerical token IDs.\n",
    "\n",
    "Ensures uniform input size.\n",
    "\n",
    "Prepares data for direct training using HuggingFace Trainer.'''"
   ]
  },
  {
   "cell_type": "code",
   "execution_count": 6,
   "id": "bc2d9d3a",
   "metadata": {},
   "outputs": [
    {
     "data": {
      "text/plain": [
       "'Data Transformation Stage\\n\\nYeh ingested data uthata hai from:\\ndata_path: artifacts/data_ingestion/samsum_dataset\\n\\nFir tokenize karke transformed data save karta hai:\\nroot_dir: artifacts/data_transformation'"
      ]
     },
     "execution_count": 6,
     "metadata": {},
     "output_type": "execute_result"
    }
   ],
   "source": [
    " '''Data Transformation Stage\n",
    "\n",
    "Yeh ingested data uthata hai from:\n",
    "data_path: artifacts/data_ingestion/samsum_dataset\n",
    "\n",
    "Fir tokenize karke transformed data save karta hai:\n",
    "root_dir: artifacts/data_transformation'''"
   ]
  },
  {
   "cell_type": "code",
   "execution_count": 7,
   "id": "d7985a93",
   "metadata": {},
   "outputs": [],
   "source": [
    "from dataclasses import dataclass\n",
    "from pathlib import Path\n",
    "@dataclass(frozen=True)\n",
    "class DataTransformationConfig:\n",
    "    root_dir: Path\n",
    "    data_path: Path\n",
    "    tokenizer_name: Path\n"
   ]
  },
  {
   "cell_type": "code",
   "execution_count": 8,
   "id": "11b30122",
   "metadata": {},
   "outputs": [],
   "source": [
    "from textSummarizer.constants import *\n",
    "from textSummarizer.utils.common import read_yaml,create_directories"
   ]
  },
  {
   "cell_type": "code",
   "execution_count": 9,
   "id": "39ce7d5b",
   "metadata": {},
   "outputs": [],
   "source": [
    "class ConfigurationManager:\n",
    "    def __init__(\n",
    "        self,\n",
    "        config_filepath= CONFIG_FILE_PATH,\n",
    "        params_filepath= PARAMS_FILE_PATH):\n",
    "        self.config= read_yaml(config_filepath)\n",
    "        self.params=read_yaml(params_filepath)\n",
    "        create_directories([self.config.artifacts_root])\n",
    "\n",
    "    def get_data_transformation_config(self) -> DataTransformationConfig:\n",
    "        config=self.config.data_transformation\n",
    "\n",
    "        create_directories([config.root_dir])\n",
    "        \n",
    "\n",
    "        #DataTransformationConfig is return type\n",
    "        data_transformation_config= DataTransformationConfig(\n",
    "            root_dir=config.root_dir,\n",
    "            data_path=config.data_path,\n",
    "            tokenizer_name= config.tokenizer_name,\n",
    "\n",
    "        )\n",
    "        return data_transformation_config"
   ]
  },
  {
   "cell_type": "code",
   "execution_count": 11,
   "id": "6a338075",
   "metadata": {},
   "outputs": [],
   "source": [
    "import os\n",
    "from textSummarizer.logging import logger\n",
    "from transformers import AutoTokenizer\n",
    "from datasets import load_dataset,load_from_disk"
   ]
  },
  {
   "cell_type": "code",
   "execution_count": 12,
   "id": "edf5192f",
   "metadata": {},
   "outputs": [],
   "source": [
    "class DataTransformation:\n",
    "    def __init__(self,config: DataTransformationConfig):\n",
    "        self.config = config\n",
    "        self.tokenizer=AutoTokenizer.from_pretrained(config.tokenizer_name)\n",
    "\n",
    "    def convert_examples_to_features(self,example_batch):\n",
    "        input_encodings = self.tokenizer(example_batch['dialogue'] , max_length = 1024, truncation = True )\n",
    "    \n",
    "        with self.tokenizer.as_target_tokenizer():\n",
    "            target_encodings = self.tokenizer(example_batch['summary'], max_length = 128, truncation = True )\n",
    "    \n",
    "        return {\n",
    "            'input_ids' : input_encodings['input_ids'],\n",
    "            'attention_mask' : input_encodings['attention_mask'],\n",
    "            'labels' : target_encodings['input_ids']\n",
    "        }\n",
    "    \n",
    "    def convert(self):\n",
    "        dataset_samsum=load_from_disk(self.config.data_path)\n",
    "        dataset_samsum_pt=dataset_samsum.map(self.convert_examples_to_features, batched=True)\n",
    "        dataset_samsum_pt.save_to_disk(os.path.join(self.config.root_dir,\"samsum_dataset\"))"
   ]
  },
  {
   "cell_type": "code",
   "execution_count": 13,
   "id": "4d8a892c",
   "metadata": {},
   "outputs": [
    {
     "name": "stdout",
     "output_type": "stream",
     "text": [
      "[2025-08-02 23:40:21,430:INFO:common:yaml file:config\\config.yaml loaded successfully]\n",
      "[2025-08-02 23:40:21,456:INFO:common:yaml file:params.yaml loaded successfully]\n",
      "[2025-08-02 23:40:21,463:INFO:common:created directory at:artifacts]\n",
      "[2025-08-02 23:40:21,463:INFO:common:created directory at:artifacts/data_transformation]\n"
     ]
    },
    {
     "name": "stderr",
     "output_type": "stream",
     "text": [
      "c:\\Users\\shwet\\anaconda3\\envs\\textS\\lib\\site-packages\\huggingface_hub\\file_download.py:143: UserWarning: `huggingface_hub` cache-system uses symlinks by default to efficiently store duplicated files but your machine does not support them in C:\\Users\\shwet\\.cache\\huggingface\\hub\\models--google--pegasus-cnn_dailymail. Caching files will still work but in a degraded version that might require more space on your disk. This warning can be disabled by setting the `HF_HUB_DISABLE_SYMLINKS_WARNING` environment variable. For more details, see https://huggingface.co/docs/huggingface_hub/how-to-cache#limitations.\n",
      "To support symlinks on Windows, you either need to activate Developer Mode or to run Python as an administrator. In order to activate developer mode, see this article: https://docs.microsoft.com/en-us/windows/apps/get-started/enable-your-device-for-development\n",
      "  warnings.warn(message)\n",
      "Map:   0%|          | 0/14732 [00:00<?, ? examples/s]c:\\Users\\shwet\\anaconda3\\envs\\textS\\lib\\site-packages\\transformers\\tokenization_utils_base.py:3950: UserWarning: `as_target_tokenizer` is deprecated and will be removed in v5 of Transformers. You can tokenize your labels by using the argument `text_target` of the regular `__call__` method (either in the same call as your input texts if you use the same keyword arguments, or in a separate call.\n",
      "  warnings.warn(\n",
      "Map: 100%|██████████| 14732/14732 [00:06<00:00, 2211.80 examples/s]\n",
      "Map: 100%|██████████| 819/819 [00:00<00:00, 1742.75 examples/s]\n",
      "Map: 100%|██████████| 818/818 [00:00<00:00, 1686.19 examples/s]\n",
      "Saving the dataset (1/1 shards): 100%|██████████| 14732/14732 [00:00<00:00, 87257.20 examples/s]\n",
      "Saving the dataset (1/1 shards): 100%|██████████| 819/819 [00:00<00:00, 28849.23 examples/s]\n",
      "Saving the dataset (1/1 shards): 100%|██████████| 818/818 [00:00<00:00, 24810.29 examples/s]\n"
     ]
    }
   ],
   "source": [
    "try:\n",
    "    config=ConfigurationManager()\n",
    "    data_transformation_config= config.get_data_transformation_config()\n",
    "    data_transformation=DataTransformation(config=data_transformation_config)\n",
    "    data_transformation.convert()\n",
    "except Exception as e:\n",
    "    raise e"
   ]
  },
  {
   "cell_type": "code",
   "execution_count": null,
   "id": "b5fbf206",
   "metadata": {},
   "outputs": [],
   "source": []
  }
 ],
 "metadata": {
  "kernelspec": {
   "display_name": "textS",
   "language": "python",
   "name": "python3"
  },
  "language_info": {
   "codemirror_mode": {
    "name": "ipython",
    "version": 3
   },
   "file_extension": ".py",
   "mimetype": "text/x-python",
   "name": "python",
   "nbconvert_exporter": "python",
   "pygments_lexer": "ipython3",
   "version": "3.9.23"
  }
 },
 "nbformat": 4,
 "nbformat_minor": 5
}
