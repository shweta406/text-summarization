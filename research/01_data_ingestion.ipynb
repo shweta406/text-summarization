{
 "cells": [
  {
   "cell_type": "code",
   "execution_count": 1,
   "id": "76695d4f",
   "metadata": {},
   "outputs": [],
   "source": [
    "import os"
   ]
  },
  {
   "cell_type": "code",
   "execution_count": 2,
   "id": "71e69cdc",
   "metadata": {},
   "outputs": [
    {
     "data": {
      "text/plain": [
       "'c:\\\\Users\\\\shwet\\\\OneDrive\\\\Desktop\\\\text-summarization\\\\research'"
      ]
     },
     "execution_count": 2,
     "metadata": {},
     "output_type": "execute_result"
    }
   ],
   "source": [
    "%pwd"
   ]
  },
  {
   "cell_type": "code",
   "execution_count": 3,
   "id": "9193b846",
   "metadata": {},
   "outputs": [],
   "source": [
    "os.chdir(\"../\")#research me the text summarization me jana tha isliye"
   ]
  },
  {
   "cell_type": "code",
   "execution_count": 4,
   "id": "174d58f1",
   "metadata": {},
   "outputs": [
    {
     "data": {
      "text/plain": [
       "'c:\\\\Users\\\\shwet\\\\OneDrive\\\\Desktop\\\\text-summarization'"
      ]
     },
     "execution_count": 4,
     "metadata": {},
     "output_type": "execute_result"
    }
   ],
   "source": [
    "%pwd"
   ]
  },
  {
   "cell_type": "code",
   "execution_count": null,
   "id": "ab29607c",
   "metadata": {},
   "outputs": [
    {
     "data": {
      "text/plain": [
       "'@dataclass(frozen=True)....This converts the class into an immutable dataclass, meaning:\\n\\nYou cannot change the attributes after creating an object.\\n\\nHelps ensure the configuration stays fixed throughout execution (useful in ML pipelines).'"
      ]
     },
     "execution_count": 5,
     "metadata": {},
     "output_type": "execute_result"
    }
   ],
   "source": [
    "from dataclasses import dataclass #dataclass: A decorator from the dataclasses module that automatically adds special methods to classes like __init__(), __repr__(), etc.\n",
    "from pathlib import Path #Comes from the pathlib module. It provides an object-oriented interface to work with file system paths.\n",
    "\n",
    "@dataclass(frozen=True)\n",
    "class DataIngestionConfig: #This defines a class to hold configuration settings for the data ingestion step of a machine learning pipeline.\n",
    "    #Attributes of the Class\n",
    "\n",
    "    root_dir: Path#The root directory where all data-related operations will be handled.\n",
    "    source_URL: str#The URL from where the raw data will be downloaded.\n",
    "    local_data_file: Path#The local file path where the downloaded data will be stored\n",
    "    unzip_dir: Path#The path where the data will be extracted/unzipped after downloading.\n",
    "\n",
    "    #basically this is return type\n",
    "\n",
    "\n",
    "'''@dataclass(frozen=True)....This converts the class into an immutable dataclass, meaning:\n",
    "\n",
    "You cannot change the attributes after creating an object.\n",
    "\n",
    "Helps ensure the configuration stays fixed throughout execution (useful in ML pipelines).'''\n"
   ]
  },
  {
   "cell_type": "code",
   "execution_count": 6,
   "id": "dcb82a76",
   "metadata": {},
   "outputs": [],
   "source": [
    "from textSummarizer.constants import *\n",
    "from textSummarizer.utils.common import read_yaml,create_directories"
   ]
  },
  {
   "cell_type": "code",
   "execution_count": 9,
   "id": "babe2ffd",
   "metadata": {},
   "outputs": [],
   "source": [
    "class ConfigurationManager:\n",
    "    def __init__(\n",
    "        self,\n",
    "        config_filepath= CONFIG_FILE_PATH,\n",
    "        params_filepath= PARAMS_FILE_PATH):\n",
    "        self.config= read_yaml(config_filepath)\n",
    "        self.params=read_yaml(params_filepath)\n",
    "        create_directories([self.config.artifacts_root])\n",
    "\n",
    "    def get_data_ingestion_config(self) -> DataIngestionConfig:\n",
    "        config=self.config.data_ingestion\n",
    "\n",
    "        create_directories([config.root_dir])\n",
    "        \n",
    "\n",
    "        #DataIngestionConfig is return type\n",
    "        data_ingestion_config= DataIngestionConfig(\n",
    "            root_dir=config.root_dir,\n",
    "            source_URL=config.source_URL,\n",
    "            local_data_file=config.local_data_file,\n",
    "            unzip_dir=config. unzip_dir\n",
    "\n",
    "        )\n",
    "        return data_ingestion_config\n"
   ]
  },
  {
   "cell_type": "code",
   "execution_count": 10,
   "id": "a59e1756",
   "metadata": {},
   "outputs": [],
   "source": [
    "#update components\n",
    "\n",
    "import os\n",
    "import urllib.request as request #to download data from url\n",
    "import zipfile #TO unzip data\n",
    "from textSummarizer.logging import logger #custom logger\n",
    "from textSummarizer.utils.common import get_size"
   ]
  },
  {
   "cell_type": "code",
   "execution_count": 11,
   "id": "6146cfc2",
   "metadata": {},
   "outputs": [],
   "source": [
    "# abhi tk data ingestion config bnaya tha ki kaise khan download hoga ab dataingestion bna rhe jisme actually download hoga\n",
    "\n",
    "class DataIngestion:\n",
    "    def __init__(self,config: DataIngestionConfig):\n",
    "        self.config= config\n",
    "\n",
    "    def download_file(self):\n",
    "        if not os.path.exists(self.config.local_data_file):\n",
    "            filename,headers=request.urlretrieve(\n",
    "                url=self.config.source_URL,\n",
    "                filename=self.config.local_data_file\n",
    "            )\n",
    "            logger.info(f\"{filename} download! with following info: \\n{headers}\")\n",
    "\n",
    "        else:\n",
    "            logger.info(f\"file already exists of size:{ get_size(Path(self.config.local_data_file))}\")\n",
    "\n",
    "    def extract_zip_file(self):\n",
    "        ''' \n",
    "        zip_file_path: str\n",
    "        extracts the zip file into the data directory\n",
    "        function returns None\n",
    "        \n",
    "        '''\n",
    "\n",
    "        unzip_path =self.config.unzip_dir\n",
    "        os.makedirs(unzip_path,exist_ok=True)\n",
    "        with zipfile.ZipFile(self.config.local_data_file,'r') as zip_ref:\n",
    "            zip_ref.extractall(unzip_path) \n"
   ]
  },
  {
   "cell_type": "code",
   "execution_count": 14,
   "id": "f3942b7a",
   "metadata": {},
   "outputs": [
    {
     "name": "stdout",
     "output_type": "stream",
     "text": [
      "[2025-08-02 20:58:39,796:INFO:common:yaml file:config\\config.yaml loaded successfully]\n",
      "[2025-08-02 20:58:39,799:INFO:common:yaml file:params.yaml loaded successfully]\n",
      "[2025-08-02 20:58:39,801:INFO:common:created directory at:artifacts]\n",
      "[2025-08-02 20:58:39,802:INFO:common:created directory at:artifacts/data_ingestion]\n"
     ]
    },
    {
     "name": "stdout",
     "output_type": "stream",
     "text": [
      "[2025-08-02 20:58:45,722:INFO:2623531039:artifacts/data_ingestion/data.zip download! with following info: \n",
      "Connection: close\n",
      "Content-Length: 7903594\n",
      "Cache-Control: max-age=300\n",
      "Content-Security-Policy: default-src 'none'; style-src 'unsafe-inline'; sandbox\n",
      "Content-Type: application/zip\n",
      "ETag: \"dbc016a060da18070593b83afff580c9b300f0b6ea4147a7988433e04df246ca\"\n",
      "Strict-Transport-Security: max-age=31536000\n",
      "X-Content-Type-Options: nosniff\n",
      "X-Frame-Options: deny\n",
      "X-XSS-Protection: 1; mode=block\n",
      "X-GitHub-Request-Id: 1B8C:3ECBE4:18DFFA:3DCF15:688E2EA7\n",
      "Accept-Ranges: bytes\n",
      "Date: Sat, 02 Aug 2025 15:28:44 GMT\n",
      "Via: 1.1 varnish\n",
      "X-Served-By: cache-hyd1100024-HYD\n",
      "X-Cache: MISS\n",
      "X-Cache-Hits: 0\n",
      "X-Timer: S1754148521.061568,VS0,VE3725\n",
      "Vary: Authorization,Accept-Encoding\n",
      "Access-Control-Allow-Origin: *\n",
      "Cross-Origin-Resource-Policy: cross-origin\n",
      "X-Fastly-Request-ID: a0d296f25c92c73fa15d273432a055963be5788c\n",
      "Expires: Sat, 02 Aug 2025 15:33:44 GMT\n",
      "Source-Age: 0\n",
      "\n",
      "]\n"
     ]
    }
   ],
   "source": [
    "#creating pipeline\n",
    "\n",
    "try:\n",
    "    config=ConfigurationManager()\n",
    "    data_ingestion_config= config.get_data_ingestion_config()\n",
    "    data_ingestion=DataIngestion(config=data_ingestion_config)\n",
    "    data_ingestion.download_file()\n",
    "    data_ingestion.extract_zip_file()\n",
    "except Exception as e:\n",
    "    raise e"
   ]
  },
  {
   "cell_type": "code",
   "execution_count": null,
   "id": "18074743",
   "metadata": {},
   "outputs": [],
   "source": []
  }
 ],
 "metadata": {
  "kernelspec": {
   "display_name": "textS",
   "language": "python",
   "name": "python3"
  },
  "language_info": {
   "codemirror_mode": {
    "name": "ipython",
    "version": 3
   },
   "file_extension": ".py",
   "mimetype": "text/x-python",
   "name": "python",
   "nbconvert_exporter": "python",
   "pygments_lexer": "ipython3",
   "version": "3.9.23"
  }
 },
 "nbformat": 4,
 "nbformat_minor": 5
}
